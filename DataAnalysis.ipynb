{
 "cells": [
  {
   "cell_type": "code",
   "execution_count": 10,
   "metadata": {},
   "outputs": [],
   "source": [
    "import pandas as pd\n",
    "import matplotlib.pyplot as plt"
   ]
  },
  {
   "cell_type": "code",
   "execution_count": 11,
   "metadata": {},
   "outputs": [
    {
     "name": "stdout",
     "output_type": "stream",
     "text": [
      "  REF_DATE              GEO           DGUID New housing price indexes  \\\n",
      "0  1981-01           Canada  2016A000011124    Total (house and land)   \n",
      "1  1981-01           Canada  2016A000011124                House only   \n",
      "2  1981-01           Canada  2016A000011124                 Land only   \n",
      "3  1981-01  Atlantic Region      2016A00011    Total (house and land)   \n",
      "4  1981-01  Atlantic Region      2016A00011                House only   \n",
      "\n",
      "                 UOM  UOM_ID SCALAR_FACTOR  SCALAR_ID      VECTOR  COORDINATE  \\\n",
      "0  Index, 201612=100     347        units           0  v111955442         1.1   \n",
      "1  Index, 201612=100     347        units           0  v111955443         1.2   \n",
      "2  Index, 201612=100     347        units           0  v111955444         1.3   \n",
      "3  Index, 201612=100     347        units           0  v111955445         2.1   \n",
      "4  Index, 201612=100     347        units           0  v111955446         2.2   \n",
      "\n",
      "   VALUE STATUS  SYMBOL  TERMINATED  DECIMALS  \n",
      "0   38.2    NaN     NaN         NaN         1  \n",
      "1   36.1    NaN     NaN         NaN         1  \n",
      "2   40.6    NaN     NaN         NaN         1  \n",
      "3    NaN     ..     NaN         NaN         1  \n",
      "4    NaN     ..     NaN         NaN         1  \n"
     ]
    }
   ],
   "source": [
    "df = pd.read_csv('18100205.csv',header = 0)\n",
    "#Check out data importing results\n",
    "print(df.head())"
   ]
  },
  {
   "cell_type": "code",
   "execution_count": 12,
   "metadata": {},
   "outputs": [
    {
     "name": "stdout",
     "output_type": "stream",
     "text": [
      "REF_DATE                      object\n",
      "GEO                           object\n",
      "DGUID                         object\n",
      "New housing price indexes     object\n",
      "UOM                           object\n",
      "UOM_ID                         int64\n",
      "SCALAR_FACTOR                 object\n",
      "SCALAR_ID                      int64\n",
      "VECTOR                        object\n",
      "COORDINATE                   float64\n",
      "VALUE                        float64\n",
      "STATUS                        object\n",
      "SYMBOL                       float64\n",
      "TERMINATED                   float64\n",
      "DECIMALS                       int64\n",
      "dtype: object\n"
     ]
    }
   ],
   "source": [
    "#Check out data types\n",
    "print(df.dtypes)\n",
    "#Change REF_DATE into yyyy-mm date type\n",
    "df['Month'] = pd.to_datetime(df.REF_DATE)"
   ]
  },
  {
   "cell_type": "code",
   "execution_count": 13,
   "metadata": {},
   "outputs": [
    {
     "data": {
      "image/png": "[encoded data removed]",
      "text/plain": [
       "<Figure size 432x288 with 1 Axes>"
      ]
     },
     "metadata": {
      "needs_background": "light"
     },
     "output_type": "display_data"
    }
   ],
   "source": [
    "df_Can = df[(df.GEO == \"Canada\") & (df[\"New housing price indexes\"].str.contains('Total'))]\n",
    "df_Can.plot(x = 'Month',y = 'VALUE')\n",
    "plt.ylabel('Value')\n",
    "plt.xlabel('Time')\n",
    "plt.title('Canada new housing price index')\n",
    "plt.show()"
   ]
  }
 ],
 "metadata": {
  "interpreter": {
   "hash": "a8c6d31d34cbc3d47a6ec63bd6bb2a066f950f35c6715599bf58e4d7def6601e"
  },
  "kernelspec": {
   "display_name": "Python 3.9.7 64-bit ('base': conda)",
   "language": "python",
   "name": "python3"
  },
  "language_info": {
   "codemirror_mode": {
    "name": "ipython",
    "version": 3
   },
   "file_extension": ".py",
   "mimetype": "text/x-python",
   "name": "python",
   "nbconvert_exporter": "python",
   "pygments_lexer": "ipython3",
   "version": "3.9.7"
  },
  "orig_nbformat": 4
 },
 "nbformat": 4,
 "nbformat_minor": 2
}
