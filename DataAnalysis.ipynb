{
 "cells": [
  {
   "cell_type": "code",
   "execution_count": 2,
   "metadata": {},
   "outputs": [],
   "source": [
    "import pandas as pd\n",
    "import matplotlib.pyplot as plt\n",
    "import os"
   ]
  },
  {
   "cell_type": "code",
   "execution_count": 3,
   "metadata": {},
   "outputs": [],
   "source": [
    "pwd = os.getcwd()\n",
    "#Load main data\n",
    "df = pd.read_csv(pwd+'\\\\data\\\\raw\\\\housing\\\\18100205.csv',header = 0)\n",
    "#Get table of metadata\n",
    "df_md = pd.read_csv(pwd+'\\\\data\\\\raw\\\\housing\\\\18100205_MetaData.csv',header = 0, skiprows =7,nrows = 43)"
   ]
  },
  {
   "cell_type": "code",
   "execution_count": 4,
   "metadata": {},
   "outputs": [],
   "source": [
    "#Change REF_DATE into yyyy-mm date type\n",
    "df['Month'] = pd.to_datetime(df.REF_DATE)\n",
    "#Get data for all Canada\n",
    "df_Can = df[(df.GEO == \"Canada\") ]\n",
    "#Condition to get total houe value: df[\"New housing price indexes\"].str.contains('Total')\n",
    "#Get provinces name from metadata file\n",
    "unique_province_id = df_md['Parent Member ID'].unique()\n",
    "provinces_names = df_md[(df_md['Member ID'].isin(unique_province_id)) & (df_md['Dimension ID']==1) \\\n",
    "    & ~(df_md['Member ID'].isin([1,2,28]))]['Member Name']\n",
    "#Get a dictionary province_df to store each province data where keys are name of provinces, values are dictionary\n",
    "province_df = {}\n",
    "for name in provinces_names:\n",
    "    province_df[name] = df[df.GEO == name]"
   ]
  }
 ],
 "metadata": {
  "interpreter": {
   "hash": "a8c6d31d34cbc3d47a6ec63bd6bb2a066f950f35c6715599bf58e4d7def6601e"
  },
  "kernelspec": {
   "display_name": "Python 3.9.7 64-bit ('base': conda)",
   "language": "python",
   "name": "python3"
  },
  "language_info": {
   "codemirror_mode": {
    "name": "ipython",
    "version": 3
   },
   "file_extension": ".py",
   "mimetype": "text/x-python",
   "name": "python",
   "nbconvert_exporter": "python",
   "pygments_lexer": "ipython3",
   "version": "3.9.7"
  },
  "orig_nbformat": 4
 },
 "nbformat": 4,
 "nbformat_minor": 2
}
