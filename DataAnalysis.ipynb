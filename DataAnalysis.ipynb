{
 "cells": [
  {
   "cell_type": "code",
   "execution_count": 1,
   "metadata": {},
   "outputs": [],
   "source": [
    "import pandas as pd\n",
    "import matplotlib.pyplot as plt\n",
    "import os"
   ]
  },
  {
   "cell_type": "code",
   "execution_count": 3,
   "metadata": {},
   "outputs": [],
   "source": [
    "pwd = os.getcwd()\n",
    "#Load main data\n",
    "df = pd.read_csv(pwd+'\\\\data\\\\raw\\\\housing\\\\18100205.csv',header = 0)\n",
    "#Get table of metadata\n",
    "df_md = pd.read_csv(pwd+'\\\\data\\\\raw\\\\housing\\\\18100205_MetaData.csv',header = 0, skiprows =7,nrows = 43)"
   ]
  },
  {
   "cell_type": "code",
   "execution_count": 2,
   "metadata": {},
   "outputs": [
    {
     "name": "stdout",
     "output_type": "stream",
     "text": [
      "  REF_DATE              GEO           DGUID New housing price indexes  \\\n",
      "0  1981-01           Canada  2016A000011124    Total (house and land)   \n",
      "1  1981-01           Canada  2016A000011124                House only   \n",
      "2  1981-01           Canada  2016A000011124                 Land only   \n",
      "3  1981-01  Atlantic Region      2016A00011    Total (house and land)   \n",
      "4  1981-01  Atlantic Region      2016A00011                House only   \n",
      "\n",
      "                 UOM  UOM_ID SCALAR_FACTOR  SCALAR_ID      VECTOR  COORDINATE  \\\n",
      "0  Index, 201612=100     347        units           0  v111955442         1.1   \n",
      "1  Index, 201612=100     347        units           0  v111955443         1.2   \n",
      "2  Index, 201612=100     347        units           0  v111955444         1.3   \n",
      "3  Index, 201612=100     347        units           0  v111955445         2.1   \n",
      "4  Index, 201612=100     347        units           0  v111955446         2.2   \n",
      "\n",
      "   VALUE STATUS  SYMBOL  TERMINATED  DECIMALS  \n",
      "0   38.2    NaN     NaN         NaN         1  \n",
      "1   36.1    NaN     NaN         NaN         1  \n",
      "2   40.6    NaN     NaN         NaN         1  \n",
      "3    NaN     ..     NaN         NaN         1  \n",
      "4    NaN     ..     NaN         NaN         1  \n"
     ]
    }
   ],
   "source": [
    "#Change REF_DATE into yyyy-mm date type\n",
    "df['Month'] = pd.to_datetime(df.REF_DATE)\n",
    "#Get data for all Canada\n",
    "df_Can = df[(df.GEO == \"Canada\") & (df[\"New housing price indexes\"].str.contains('Total'))]\n",
    "#Get provinces name from metadata file\n",
    "unique_province_id = df_md['Parent Member ID'].unique()\n",
    "provinces_names = df_md[(df_md['Member ID'].isin(unique_province_id)) & (df_md['Dimension ID']==1) \\\n",
    "    & ~(df_md['Member ID'].isin([1,2,28]))]['Member Name']\n",
    "#Get a dictionary province_df to store each province data where keys are name of provinces, values are dictionary\n",
    "province_df = {}\n",
    "for name in provinces_names:\n",
    "    province_df[name] = df[df.GEO == name]"
   ]
  }
 ],
 "metadata": {
  "interpreter": {
   "hash": "a8c6d31d34cbc3d47a6ec63bd6bb2a066f950f35c6715599bf58e4d7def6601e"
  },
  "kernelspec": {
   "display_name": "Python 3.9.7 64-bit ('base': conda)",
   "language": "python",
   "name": "python3"
  },
  "language_info": {
   "codemirror_mode": {
    "name": "ipython",
    "version": 3
   },
   "file_extension": ".py",
   "mimetype": "text/x-python",
   "name": "python",
   "nbconvert_exporter": "python",
   "pygments_lexer": "ipython3",
   "version": "3.9.7"
  },
  "orig_nbformat": 4
 },
 "nbformat": 4,
 "nbformat_minor": 2
}
