{
 "cells": [
  {
   "cell_type": "code",
   "execution_count": 1,
   "metadata": {},
   "outputs": [],
   "source": [
    "import pandas as pd\n",
    "import matplotlib.pyplot as plt"
   ]
  },
  {
   "cell_type": "code",
   "execution_count": 2,
   "metadata": {},
   "outputs": [
    {
     "name": "stdout",
     "output_type": "stream",
     "text": [
      "  REF_DATE              GEO           DGUID New housing price indexes  \\\n",
      "0  1981-01           Canada  2016A000011124    Total (house and land)   \n",
      "1  1981-01           Canada  2016A000011124                House only   \n",
      "2  1981-01           Canada  2016A000011124                 Land only   \n",
      "3  1981-01  Atlantic Region      2016A00011    Total (house and land)   \n",
      "4  1981-01  Atlantic Region      2016A00011                House only   \n",
      "\n",
      "                 UOM  UOM_ID SCALAR_FACTOR  SCALAR_ID      VECTOR  COORDINATE  \\\n",
      "0  Index, 201612=100     347        units           0  v111955442         1.1   \n",
      "1  Index, 201612=100     347        units           0  v111955443         1.2   \n",
      "2  Index, 201612=100     347        units           0  v111955444         1.3   \n",
      "3  Index, 201612=100     347        units           0  v111955445         2.1   \n",
      "4  Index, 201612=100     347        units           0  v111955446         2.2   \n",
      "\n",
      "   VALUE STATUS  SYMBOL  TERMINATED  DECIMALS  \n",
      "0   38.2    NaN     NaN         NaN         1  \n",
      "1   36.1    NaN     NaN         NaN         1  \n",
      "2   40.6    NaN     NaN         NaN         1  \n",
      "3    NaN     ..     NaN         NaN         1  \n",
      "4    NaN     ..     NaN         NaN         1  \n"
     ]
    }
   ],
   "source": [
    "df = pd.read_csv('18100205.csv',header = 0)\n",
    "#Check out data importing results\n",
    "print(df.head())"
   ]
  },
  {
   "cell_type": "code",
   "execution_count": 3,
   "metadata": {},
   "outputs": [
    {
     "name": "stdout",
     "output_type": "stream",
     "text": [
      "REF_DATE                      object\n",
      "GEO                           object\n",
      "DGUID                         object\n",
      "New housing price indexes     object\n",
      "UOM                           object\n",
      "UOM_ID                         int64\n",
      "SCALAR_FACTOR                 object\n",
      "SCALAR_ID                      int64\n",
      "VECTOR                        object\n",
      "COORDINATE                   float64\n",
      "VALUE                        float64\n",
      "STATUS                        object\n",
      "SYMBOL                       float64\n",
      "TERMINATED                   float64\n",
      "DECIMALS                       int64\n",
      "dtype: object\n"
     ]
    }
   ],
   "source": [
    "#Check out data types\n",
    "print(df.dtypes)\n",
    "#Change REF_DATE into yyyy-mm date type\n",
    "df['Month'] = pd.to_datetime(df.REF_DATE)"
   ]
  },
  {
   "cell_type": "code",
   "execution_count": 4,
   "metadata": {},
   "outputs": [
    {
     "data": {
      "image/png": "[encoded data removed]",
      "text/plain": [
       "<Figure size 432x288 with 1 Axes>"
      ]
     },
     "metadata": {
      "needs_background": "light"
     },
     "output_type": "display_data"
    }
   ],
   "source": [
    "#Get data for all Canada\n",
    "df_Can = df[(df.GEO == \"Canada\") & (df[\"New housing price indexes\"].str.contains('Total'))]\n",
    "#Plot data for all Canada\n",
    "df_Can.plot(x = 'Month',y = 'VALUE')\n",
    "plt.ylabel('Value')\n",
    "plt.xlabel('Time')\n",
    "plt.title('Canada new housing price index')\n",
    "plt.show()"
   ]
  },
  {
   "cell_type": "code",
   "execution_count": 17,
   "metadata": {},
   "outputs": [
    {
     "name": "stdout",
     "output_type": "stream",
     "text": [
      "Index(['Dimension ID', 'Member Name', 'Classification Code', 'Member ID',\n",
      "       'Parent Member ID', 'Terminated', 'Member Notes', 'Member Definitions'],\n",
      "      dtype='object')\n",
      "       Dimension ID  Member ID  Parent Member ID  Terminated  Member Notes  \\\n",
      "count     43.000000  43.000000         41.000000         0.0      9.000000   \n",
      "mean       1.069767  19.209302         15.073171         NaN      8.000000   \n",
      "std        0.257770  12.234919         12.145761         NaN      2.738613   \n",
      "min        1.000000   1.000000          1.000000         NaN      4.000000   \n",
      "25%        1.000000   8.500000          2.000000         NaN      6.000000   \n",
      "50%        1.000000  19.000000         17.000000         NaN      8.000000   \n",
      "75%        1.000000  29.500000         28.000000         NaN     10.000000   \n",
      "max        2.000000  40.000000         37.000000         NaN     12.000000   \n",
      "\n",
      "       Member Definitions  \n",
      "count                 0.0  \n",
      "mean                  NaN  \n",
      "std                   NaN  \n",
      "min                   NaN  \n",
      "25%                   NaN  \n",
      "50%                   NaN  \n",
      "75%                   NaN  \n",
      "max                   NaN  \n"
     ]
    }
   ],
   "source": [
    "#Get table of metadata\n",
    "df_md = pd.read_csv('18100205_MetaData.csv',header = 0, skiprows =7,nrows = 43)\n",
    "print(df_md.columns)\n",
    "print(df_md.describe())"
   ]
  },
  {
   "cell_type": "code",
   "execution_count": 16,
   "metadata": {},
   "outputs": [
    {
     "name": "stdout",
     "output_type": "stream",
     "text": [
      "[nan  1.  2.  3.  5.  7.  9. 11. 17. 28. 29. 31. 34. 37.]\n",
      "2     Newfoundland and Labrador\n",
      "4          Prince Edward Island\n",
      "6                   Nova Scotia\n",
      "8                 New Brunswick\n",
      "10                       Quebec\n",
      "16                      Ontario\n",
      "28                     Manitoba\n",
      "30                 Saskatchewan\n",
      "33                      Alberta\n",
      "36             British Columbia\n",
      "Name: Member Name, dtype: object\n"
     ]
    }
   ],
   "source": [
    "unique_province_id = df_md['Parent Member ID'].unique()\n",
    "print(unique_province_id)\n",
    "\n",
    "provinces_names = df_md[(df_md['Member ID'].isin(unique_province_id)) & (df_md['Dimension ID']==1) \\\n",
    "    & ~(df_md['Member ID'].isin([1,2,28]))]['Member Name']\n",
    "print(provinces_names)"
   ]
  },
  {
   "cell_type": "code",
   "execution_count": 18,
   "metadata": {},
   "outputs": [
    {
     "data": {
      "image/png": "[encoded data removed]",
      "text/plain": [
       "<Figure size 432x288 with 1 Axes>"
      ]
     },
     "metadata": {
      "needs_background": "light"
     },
     "output_type": "display_data"
    }
   ],
   "source": [
    "province_df = {}\n",
    "for name in provinces_names:\n",
    "    province_df[name] = df[df.GEO == name]\n",
    "\n"
   ]
  },
  {
   "cell_type": "code",
   "execution_count": 26,
   "metadata": {},
   "outputs": [
    {
     "name": "stdout",
     "output_type": "stream",
     "text": [
      "    REF_DATE     GEO        DGUID New housing price indexes  \\\n",
      "30   1981-01  Quebec  2016A000224    Total (house and land)   \n",
      "150  1981-02  Quebec  2016A000224    Total (house and land)   \n",
      "270  1981-03  Quebec  2016A000224    Total (house and land)   \n",
      "390  1981-04  Quebec  2016A000224    Total (house and land)   \n",
      "510  1981-05  Quebec  2016A000224    Total (house and land)   \n",
      "\n",
      "                   UOM  UOM_ID SCALAR_FACTOR  SCALAR_ID      VECTOR  \\\n",
      "30   Index, 201612=100     347        units           0  v111955472   \n",
      "150  Index, 201612=100     347        units           0  v111955472   \n",
      "270  Index, 201612=100     347        units           0  v111955472   \n",
      "390  Index, 201612=100     347        units           0  v111955472   \n",
      "510  Index, 201612=100     347        units           0  v111955472   \n",
      "\n",
      "     COORDINATE  VALUE STATUS  SYMBOL  TERMINATED  DECIMALS      Month  \n",
      "30         11.1    NaN     ..     NaN         NaN         1 1981-01-01  \n",
      "150        11.1    NaN     ..     NaN         NaN         1 1981-02-01  \n",
      "270        11.1    NaN     ..     NaN         NaN         1 1981-03-01  \n",
      "390        11.1    NaN     ..     NaN         NaN         1 1981-04-01  \n",
      "510        11.1    NaN     ..     NaN         NaN         1 1981-05-01  \n"
     ]
    },
    {
     "data": {
      "image/png": "[encoded data removed]",
      "text/plain": [
       "<Figure size 432x288 with 1 Axes>"
      ]
     },
     "metadata": {
      "needs_background": "light"
     },
     "output_type": "display_data"
    }
   ],
   "source": [
    "temp_province = province_df['Quebec']\n",
    "temp_province = temp_province[temp_province[\"New housing price indexes\"].str.contains('Total')].\\\n",
    "    dropna(axis = 0, subset = ['Month'])\n",
    "print(temp_province.head())\n",
    "temp_province.plot(x = 'Month',y = 'VALUE')\n",
    "plt.show()"
   ]
  }
 ],
 "metadata": {
  "interpreter": {
   "hash": "a8c6d31d34cbc3d47a6ec63bd6bb2a066f950f35c6715599bf58e4d7def6601e"
  },
  "kernelspec": {
   "display_name": "Python 3.9.7 64-bit ('base': conda)",
   "language": "python",
   "name": "python3"
  },
  "language_info": {
   "codemirror_mode": {
    "name": "ipython",
    "version": 3
   },
   "file_extension": ".py",
   "mimetype": "text/x-python",
   "name": "python",
   "nbconvert_exporter": "python",
   "pygments_lexer": "ipython3",
   "version": "3.9.7"
  },
  "orig_nbformat": 4
 },
 "nbformat": 4,
 "nbformat_minor": 2
}
