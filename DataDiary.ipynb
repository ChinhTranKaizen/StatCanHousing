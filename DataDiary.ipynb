{
 "cells": [
  {
   "cell_type": "code",
   "execution_count": 60,
   "id": "38e0a4b1",
   "metadata": {},
   "outputs": [],
   "source": [
    "import os\n",
    "import pandas as pd\n",
    "from datetime import datetime as dt\n",
    "\n",
    "today_task = 1\n",
    "# task #1 : EDA\n",
    "# task #2 : Data cleaning/ engineering\n",
    "# task #3 : Modeling\n",
    "# task #4 : Data intelligence\n",
    "today_description = \"explore raw data dimension and format\""
   ]
  },
  {
   "cell_type": "code",
   "execution_count": 61,
   "id": "7ca48086",
   "metadata": {},
   "outputs": [
    {
     "name": "stdout",
     "output_type": "stream",
     "text": [
      "found file!\n",
      "                         date  task                description\n",
      "0  2022-01-09 11:48:30.108339     0  creation of the DataDiary\n",
      "1\n",
      "explore raw data dimension and format\n",
      "                         date  task                            description\n",
      "0  2022-01-09 11:48:30.108339     0              creation of the DataDiary\n",
      "1  2022-01-09 20:46:43.626428     1  explore raw data dimension and format\n"
     ]
    }
   ],
   "source": [
    "#Check for existence of data diary file else create one anew\n",
    "dataDiary = \"DataDiary.csv\"\n",
    "filepath = os.getcwd()+ \"\\\\\" +dataDiary\n",
    "if not(os.path.exists(filepath)):\n",
    "    df = pd.DataFrame({'date':dt.now(),'task':0,'description':'creation of the DataDiary'},\\\n",
    "        columns=['date','task','description'],index = [0])\n",
    "    df.to_csv(filepath)\n",
    "#Add what have been done to the diary\n",
    "else:\n",
    "    print(\"found file!\")\n",
    "    df = pd.read_csv(filepath,header = 0, names = ['date','task','description'])\n",
    "    df = df.append({'date':dt.now(),'task':today_task,'description':today_description}, ignore_index = True)\n",
    "    df.to_csv(filepath)"
   ]
  }
 ],
 "metadata": {
  "kernelspec": {
   "display_name": "Python 3 (ipykernel)",
   "language": "python",
   "name": "python3"
  },
  "language_info": {
   "codemirror_mode": {
    "name": "ipython",
    "version": 3
   },
   "file_extension": ".py",
   "mimetype": "text/x-python",
   "name": "python",
   "nbconvert_exporter": "python",
   "pygments_lexer": "ipython3",
   "version": "3.9.7"
  }
 },
 "nbformat": 4,
 "nbformat_minor": 5
}
