{
 "cells": [
  {
   "cell_type": "code",
   "execution_count": 23,
   "metadata": {},
   "outputs": [],
   "source": [
    "import pandas as pd\n",
    "import os\n",
    "pwd = os.getcwd()\n",
    "\n",
    "newHousingPriceIndexDf = pd.read_csv(pwd+'\\\\data\\\\raw\\\\housing\\\\18100205.csv',header = 0, \\\n",
    "    parse_dates=['REF_DATE'],\\\n",
    "    usecols = ['REF_DATE','GEO','DGUID','New housing price indexes','VALUE'])\n",
    "\n",
    "incomeAndPopulationByAgeGroupDf = pd.read_csv(pwd+'\\\\data\\\\raw\\\\income\\\\11100239.csv',header = 0, \\\n",
    "    parse_dates=['REF_DATE'],\\\n",
    "    usecols = ['REF_DATE','GEO','DGUID','Age group','Sex','Income source','Statistics','UOM','SCALAR_FACTOR'])\n",
    "\n",
    "canadaIndustrialProductPriceIndex = pd.read_csv(pwd+'\\\\data\\\\raw\\\\IPPI\\\\18100265.csv',header = 0, \\\n",
    "    parse_dates=['REF_DATE'],\\\n",
    "    usecols = ['REF_DATE','North American Product Classification System (NAPCS)','VALUE'])\n",
    "\n"
   ]
  },
  {
   "cell_type": "code",
   "execution_count": 36,
   "metadata": {},
   "outputs": [],
   "source": []
  },
  {
   "cell_type": "code",
   "execution_count": 37,
   "metadata": {},
   "outputs": [
    {
     "name": "stdout",
     "output_type": "stream",
     "text": [
      "    REF_DATE North American Product Classification System (NAPCS)  VALUE\n",
      "0 1956-01-01       Total, Industrial product price index (IPPI)     13.3\n",
      "1 1956-02-01       Total, Industrial product price index (IPPI)     13.3\n",
      "2 1956-03-01       Total, Industrial product price index (IPPI)     13.4\n",
      "3 1956-04-01       Total, Industrial product price index (IPPI)     13.4\n",
      "4 1956-05-01       Total, Industrial product price index (IPPI)     13.4\n"
     ]
    }
   ],
   "source": [
    "#print(newHousingPriceIndexDf.info())\n",
    "print(canadaIndustrialProductPriceIndex.head())\n"
   ]
  },
  {
   "cell_type": "code",
   "execution_count": 35,
   "metadata": {},
   "outputs": [
    {
     "name": "stdout",
     "output_type": "stream",
     "text": [
      "['v1230995983' 'v1230995984' 'v1230995985' 'v1230995986' 'v1230995987'\n",
      " 'v1230995988' 'v1230995990' 'v1230995991' 'v1230995992' 'v1230995993'\n",
      " 'v1230995994' 'v1230995995' 'v1230995996' 'v1230995999' 'v1230996000'\n",
      " 'v1230996001' 'v1230996002' 'v1230996003' 'v1230996004' 'v1230995997'\n",
      " 'v1230995998' 'v1230996005' 'v1230996006' 'v1230995989']\n"
     ]
    }
   ],
   "source": [
    "print(canadaIndustrialProductPriceIndex.VECTOR.unique())"
   ]
  }
 ],
 "metadata": {
  "interpreter": {
   "hash": "a8c6d31d34cbc3d47a6ec63bd6bb2a066f950f35c6715599bf58e4d7def6601e"
  },
  "kernelspec": {
   "display_name": "Python 3.9.7 ('base')",
   "language": "python",
   "name": "python3"
  },
  "language_info": {
   "codemirror_mode": {
    "name": "ipython",
    "version": 3
   },
   "file_extension": ".py",
   "mimetype": "text/x-python",
   "name": "python",
   "nbconvert_exporter": "python",
   "pygments_lexer": "ipython3",
   "version": "3.9.7"
  },
  "orig_nbformat": 4
 },
 "nbformat": 4,
 "nbformat_minor": 2
}
